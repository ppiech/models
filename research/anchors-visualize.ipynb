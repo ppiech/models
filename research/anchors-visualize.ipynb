{
 "cells": [
  {
   "cell_type": "code",
   "execution_count": 4,
   "metadata": {},
   "outputs": [
    {
     "ename": "ModuleNotFoundError",
     "evalue": "No module named 'nets'",
     "output_type": "error",
     "traceback": [
      "\u001b[0;31m---------------------------------------------------------------------------\u001b[0m",
      "\u001b[0;31mModuleNotFoundError\u001b[0m                       Traceback (most recent call last)",
      "\u001b[0;32m<ipython-input-4-5ff4e1cd3029>\u001b[0m in \u001b[0;36m<module>\u001b[0;34m\u001b[0m\n\u001b[1;32m      4\u001b[0m \u001b[0;32mimport\u001b[0m \u001b[0mtensorflow\u001b[0m \u001b[0;32mas\u001b[0m \u001b[0mtf\u001b[0m\u001b[0;34m\u001b[0m\u001b[0m\n\u001b[1;32m      5\u001b[0m \u001b[0;32mfrom\u001b[0m \u001b[0mobject_detection\u001b[0m\u001b[0;34m.\u001b[0m\u001b[0manchor_generators\u001b[0m\u001b[0;34m.\u001b[0m\u001b[0mmultiple_grid_anchor_generator\u001b[0m \u001b[0;32mimport\u001b[0m \u001b[0mcreate_ssd_anchors\u001b[0m\u001b[0;34m\u001b[0m\u001b[0m\n\u001b[0;32m----> 6\u001b[0;31m \u001b[0;32mfrom\u001b[0m \u001b[0mobject_detection\u001b[0m\u001b[0;34m.\u001b[0m\u001b[0mmodels\u001b[0m\u001b[0;34m.\u001b[0m\u001b[0mssd_mobilenet_v2_feature_extractor_test\u001b[0m \u001b[0;32mimport\u001b[0m \u001b[0mSsdMobilenetV2FeatureExtractorTest\u001b[0m\u001b[0;34m\u001b[0m\u001b[0m\n\u001b[0m\u001b[1;32m      7\u001b[0m \u001b[0;32mimport\u001b[0m \u001b[0mmatplotlib\u001b[0m\u001b[0;34m.\u001b[0m\u001b[0mpyplot\u001b[0m \u001b[0;32mas\u001b[0m \u001b[0mplt\u001b[0m\u001b[0;34m\u001b[0m\u001b[0m\n\u001b[1;32m      8\u001b[0m \u001b[0;32mimport\u001b[0m \u001b[0mmatplotlib\u001b[0m\u001b[0;34m.\u001b[0m\u001b[0mpatches\u001b[0m \u001b[0;32mas\u001b[0m \u001b[0mpatches\u001b[0m\u001b[0;34m\u001b[0m\u001b[0m\n",
      "\u001b[0;32m~/git/tensorflow-models/research/object_detection/models/ssd_mobilenet_v2_feature_extractor_test.py\u001b[0m in \u001b[0;36m<module>\u001b[0;34m\u001b[0m\n\u001b[1;32m     21\u001b[0m \u001b[0;34m\u001b[0m\u001b[0m\n\u001b[1;32m     22\u001b[0m \u001b[0;32mfrom\u001b[0m \u001b[0mobject_detection\u001b[0m\u001b[0;34m.\u001b[0m\u001b[0mmodels\u001b[0m \u001b[0;32mimport\u001b[0m \u001b[0mssd_feature_extractor_test\u001b[0m\u001b[0;34m\u001b[0m\u001b[0m\n\u001b[0;32m---> 23\u001b[0;31m \u001b[0;32mfrom\u001b[0m \u001b[0mobject_detection\u001b[0m\u001b[0;34m.\u001b[0m\u001b[0mmodels\u001b[0m \u001b[0;32mimport\u001b[0m \u001b[0mssd_mobilenet_v2_feature_extractor\u001b[0m\u001b[0;34m\u001b[0m\u001b[0m\n\u001b[0m\u001b[1;32m     24\u001b[0m \u001b[0;32mfrom\u001b[0m \u001b[0mobject_detection\u001b[0m\u001b[0;34m.\u001b[0m\u001b[0mmodels\u001b[0m \u001b[0;32mimport\u001b[0m \u001b[0mssd_mobilenet_v2_keras_feature_extractor\u001b[0m\u001b[0;34m\u001b[0m\u001b[0m\n\u001b[1;32m     25\u001b[0m \u001b[0;34m\u001b[0m\u001b[0m\n",
      "\u001b[0;32m~/git/tensorflow-models/research/object_detection/models/ssd_mobilenet_v2_feature_extractor.py\u001b[0m in \u001b[0;36m<module>\u001b[0;34m\u001b[0m\n\u001b[1;32m     23\u001b[0m \u001b[0;32mfrom\u001b[0m \u001b[0mobject_detection\u001b[0m\u001b[0;34m.\u001b[0m\u001b[0mutils\u001b[0m \u001b[0;32mimport\u001b[0m \u001b[0mops\u001b[0m\u001b[0;34m\u001b[0m\u001b[0m\n\u001b[1;32m     24\u001b[0m \u001b[0;32mfrom\u001b[0m \u001b[0mobject_detection\u001b[0m\u001b[0;34m.\u001b[0m\u001b[0mutils\u001b[0m \u001b[0;32mimport\u001b[0m \u001b[0mshape_utils\u001b[0m\u001b[0;34m\u001b[0m\u001b[0m\n\u001b[0;32m---> 25\u001b[0;31m \u001b[0;32mfrom\u001b[0m \u001b[0mnets\u001b[0m\u001b[0;34m.\u001b[0m\u001b[0mmobilenet\u001b[0m \u001b[0;32mimport\u001b[0m \u001b[0mmobilenet\u001b[0m\u001b[0;34m\u001b[0m\u001b[0m\n\u001b[0m\u001b[1;32m     26\u001b[0m \u001b[0;32mfrom\u001b[0m \u001b[0mnets\u001b[0m\u001b[0;34m.\u001b[0m\u001b[0mmobilenet\u001b[0m \u001b[0;32mimport\u001b[0m \u001b[0mmobilenet_v2\u001b[0m\u001b[0;34m\u001b[0m\u001b[0m\n\u001b[1;32m     27\u001b[0m \u001b[0;34m\u001b[0m\u001b[0m\n",
      "\u001b[0;31mModuleNotFoundError\u001b[0m: No module named 'nets'"
     ]
    }
   ],
   "source": [
    "import sys\n",
    "sys.path.append(\".\")\n",
    "\n",
    "import tensorflow as tf\n",
    "from object_detection.anchor_generators.multiple_grid_anchor_generator import create_ssd_anchors\n",
    "from object_detection.models.ssd_mobilenet_v2_feature_extractor_test import SsdMobilenetV2FeatureExtractorTest\n",
    "import matplotlib.pyplot as plt\n",
    "import matplotlib.patches as patches\n",
    "import numpy as np\n",
    "\n"
   ]
  },
  {
   "cell_type": "code",
   "execution_count": 2,
   "metadata": {},
   "outputs": [],
   "source": [
    "def get_feature_map_shapes(image_height, image_width):\n",
    "    \"\"\"\n",
    "    :param image_height: height in pixels\n",
    "    :param image_width: width in pixels\n",
    "    :returns: list of tuples containing feature map resolutions\n",
    "    \"\"\"\n",
    "    feature_extractor = SsdMobilenetV2FeatureExtractorTest()._create_feature_extractor(\n",
    "        depth_multiplier=1,\n",
    "        pad_to_multiple=1,\n",
    "    )\n",
    "    image_batch_tensor = tf.zeros([1, image_height, image_width, 1])\n",
    "\n",
    "    return [tuple(feature_map.get_shape().as_list()[1:3])\n",
    "            for feature_map in feature_extractor.extract_features(image_batch_tensor)]\n",
    "\n",
    "\n",
    "def get_feature_map_anchor_boxes(feature_map_shape_list, **anchor_kwargs):\n",
    "    \"\"\"\n",
    "    :param feature_map_shape_list: list of tuples containing feature map resolutions\n",
    "    :returns: dict with feature map shape tuple as key and list of [ymin, xmin, ymax, xmax] box co-ordinates\n",
    "    \"\"\"\n",
    "    anchor_generator = create_ssd_anchors(**anchor_kwargs)\n",
    "\n",
    "    anchor_box_lists = anchor_generator.generate(feature_map_shape_list)\n",
    "\n",
    "    feature_map_boxes = {}\n",
    "\n",
    "    with tf.Session() as sess:\n",
    "        for shape, box_list in zip(feature_map_shape_list, anchor_box_lists):\n",
    "            feature_map_boxes[shape] = sess.run(box_list.data['boxes'])\n",
    "\n",
    "    return feature_map_boxes\n",
    "\n",
    "def draw_boxes(boxes, figsize, nrows, ncols, grid=(0,0)):\n",
    "\n",
    "    fig, axes = plt.subplots(nrows=nrows, ncols=ncols, figsize=figsize)\n",
    "\n",
    "    for ax, box in zip(axes.flat, boxes):\n",
    "        ymin, xmin, ymax, xmax = box\n",
    "        ax.add_patch(patches.Rectangle((xmin, ymin), xmax-xmin, ymax-ymin,\n",
    "                                fill=False, edgecolor='red', lw=2))\n",
    "\n",
    "        # add gridlines to represent feature map cells\n",
    "        ax.set_xticks(np.linspace(0, 1, grid[0] + 1), minor=True)\n",
    "        ax.set_yticks(np.linspace(0, 1, grid[1] + 1), minor=True)\n",
    "        ax.grid(True, which='minor', axis='both')\n",
    "\n",
    "    fig.tight_layout()\n",
    "\n",
    "    return fig"
   ]
  },
  {
   "cell_type": "code",
   "execution_count": 3,
   "metadata": {},
   "outputs": [
    {
     "ename": "NameError",
     "evalue": "name 'SsdMobilenetV2FeatureExtractorTest' is not defined",
     "output_type": "error",
     "traceback": [
      "\u001b[0;31m---------------------------------------------------------------------------\u001b[0m",
      "\u001b[0;31mNameError\u001b[0m                                 Traceback (most recent call last)",
      "\u001b[0;32m<ipython-input-3-25bb066e480b>\u001b[0m in \u001b[0;36m<module>\u001b[0;34m\u001b[0m\n\u001b[1;32m      1\u001b[0m boxes = get_feature_map_anchor_boxes(\n\u001b[0;32m----> 2\u001b[0;31m     \u001b[0mfeature_map_shape_list\u001b[0m\u001b[0;34m=\u001b[0m\u001b[0mget_feature_map_shapes\u001b[0m\u001b[0;34m(\u001b[0m\u001b[0;36m300\u001b[0m\u001b[0;34m,\u001b[0m \u001b[0;36m300\u001b[0m\u001b[0;34m)\u001b[0m\u001b[0;34m,\u001b[0m\u001b[0;34m\u001b[0m\u001b[0m\n\u001b[0m\u001b[1;32m      3\u001b[0m     \u001b[0mmin_scale\u001b[0m\u001b[0;34m=\u001b[0m\u001b[0;36m0.2\u001b[0m\u001b[0;34m,\u001b[0m\u001b[0;34m\u001b[0m\u001b[0m\n\u001b[1;32m      4\u001b[0m     \u001b[0mmax_scale\u001b[0m\u001b[0;34m=\u001b[0m\u001b[0;36m0.9\u001b[0m\u001b[0;34m\u001b[0m\u001b[0m\n\u001b[1;32m      5\u001b[0m )\n",
      "\u001b[0;32m<ipython-input-2-0e2d1bcddc3a>\u001b[0m in \u001b[0;36mget_feature_map_shapes\u001b[0;34m(image_height, image_width)\u001b[0m\n\u001b[1;32m      5\u001b[0m     \u001b[0;34m:\u001b[0m\u001b[0mreturns\u001b[0m\u001b[0;34m:\u001b[0m \u001b[0mlist\u001b[0m \u001b[0mof\u001b[0m \u001b[0mtuples\u001b[0m \u001b[0mcontaining\u001b[0m \u001b[0mfeature\u001b[0m \u001b[0mmap\u001b[0m \u001b[0mresolutions\u001b[0m\u001b[0;34m\u001b[0m\u001b[0m\n\u001b[1;32m      6\u001b[0m     \"\"\"\n\u001b[0;32m----> 7\u001b[0;31m     feature_extractor = SsdMobilenetV2FeatureExtractorTest()._create_feature_extractor(\n\u001b[0m\u001b[1;32m      8\u001b[0m         \u001b[0mdepth_multiplier\u001b[0m\u001b[0;34m=\u001b[0m\u001b[0;36m1\u001b[0m\u001b[0;34m,\u001b[0m\u001b[0;34m\u001b[0m\u001b[0m\n\u001b[1;32m      9\u001b[0m         \u001b[0mpad_to_multiple\u001b[0m\u001b[0;34m=\u001b[0m\u001b[0;36m1\u001b[0m\u001b[0;34m,\u001b[0m\u001b[0;34m\u001b[0m\u001b[0m\n",
      "\u001b[0;31mNameError\u001b[0m: name 'SsdMobilenetV2FeatureExtractorTest' is not defined"
     ]
    }
   ],
   "source": [
    "boxes = get_feature_map_anchor_boxes(\n",
    "    feature_map_shape_list=get_feature_map_shapes(300, 300),\n",
    "    min_scale=0.2,\n",
    "    max_scale=0.9\n",
    ")\n",
    "\n",
    "draw_boxes(boxes[(3,3)], figsize=(12,16), nrows=9, ncols=6, grid=(3,3))\n",
    "fit.show()"
   ]
  },
  {
   "cell_type": "code",
   "execution_count": null,
   "metadata": {},
   "outputs": [],
   "source": []
  }
 ],
 "metadata": {
  "kernelspec": {
   "display_name": "card-io2",
   "language": "python",
   "name": "card-io2"
  },
  "language_info": {
   "codemirror_mode": {
    "name": "ipython",
    "version": 3
   },
   "file_extension": ".py",
   "mimetype": "text/x-python",
   "name": "python",
   "nbconvert_exporter": "python",
   "pygments_lexer": "ipython3",
   "version": "3.6.4"
  }
 },
 "nbformat": 4,
 "nbformat_minor": 2
}
